{
 "cells": [
  {
   "cell_type": "code",
   "execution_count": 233,
   "id": "1cac882c-f1bb-432f-8daf-8ca640c36688",
   "metadata": {},
   "outputs": [
    {
     "data": {
      "text/plain": [
       "(374, 40)"
      ]
     },
     "execution_count": 233,
     "metadata": {},
     "output_type": "execute_result"
    }
   ],
   "source": [
    "import matplotlib.pyplot as plt\n",
    "import pandas as pd\n",
    "import numpy as np\n",
    "import csv\n",
    "\n",
    "#read file 1\n",
    "df = pd.read_csv('202105_fixed_laua_coverage_r01.csv', header=0)\n",
    "df.head(10)\n",
    "df.shape"
   ]
  },
  {
   "cell_type": "code",
   "execution_count": 234,
   "id": "854a9f42-8528-4103-93b1-f2e099e04f61",
   "metadata": {},
   "outputs": [
    {
     "name": "stdout",
     "output_type": "stream",
     "text": [
      "<class 'pandas.core.frame.DataFrame'>\n",
      "RangeIndex: 374 entries, 0 to 373\n",
      "Data columns (total 40 columns):\n",
      " #   Column                                                        Non-Null Count  Dtype  \n",
      "---  ------                                                        --------------  -----  \n",
      " 0   laua                                                          374 non-null    object \n",
      " 1   laua_name                                                     374 non-null    object \n",
      " 2   All Premises                                                  374 non-null    int64  \n",
      " 3   All Matched Premises                                          374 non-null    int64  \n",
      " 4   SFBB availability (% premises)                                374 non-null    float64\n",
      " 5   UFBB (100Mbit/s) availability (% premises)                    374 non-null    float64\n",
      " 6   UFBB availability (% premises)                                374 non-null    float64\n",
      " 7   Full Fibre availability (% premises)                          374 non-null    float64\n",
      " 8   Gigabit availability (% premises)                             374 non-null    float64\n",
      " 9   % of premises unable to receive 2Mbit/s                       374 non-null    float64\n",
      " 10  % of premises unable to receive 5Mbit/s                       374 non-null    float64\n",
      " 11  % of premises unable to receive 10Mbit/s                      374 non-null    float64\n",
      " 12  % of premises unable to receive 30Mbit/s                      374 non-null    float64\n",
      " 13  % of premises below the USO                                   374 non-null    float64\n",
      " 14  % of premises with NGA                                        374 non-null    float64\n",
      " 15  % of premises able to receive decent broadband from FWA       374 non-null    float64\n",
      " 16  Number of premises with SFBB availability                     374 non-null    int64  \n",
      " 17  Number of premises with UFBB (100Mbit/s) availability         374 non-null    int64  \n",
      " 18  Number of premises with UFBB availability                     374 non-null    int64  \n",
      " 19  Number of premises with Full Fibre availability               374 non-null    int64  \n",
      " 20  Number of premises with Gigabit availability                  374 non-null    int64  \n",
      " 21  Number of premises unable to receive 2Mbit/s                  374 non-null    int64  \n",
      " 22  Number of premises unable to receive 5Mbit/s                  374 non-null    int64  \n",
      " 23  Number of premises unable to receive 10Mbit/s                 374 non-null    int64  \n",
      " 24  Number of premises unable to receive 30Mbit/s                 374 non-null    int64  \n",
      " 25  Number of premises below the USO                              374 non-null    int64  \n",
      " 26  Number of premises with NGA                                   374 non-null    int64  \n",
      " 27  Number of premises able to receive decent broadband from FWA  374 non-null    int64  \n",
      " 28  Number of premises with 30<300Mbit/s download speed           374 non-null    int64  \n",
      " 29  Number of premises with >=300Mbit/s download speed            374 non-null    int64  \n",
      " 30  Number of premises with 0<2Mbit/s download speed              374 non-null    int64  \n",
      " 31  Number of premises with 2<5Mbit/s download speed              374 non-null    int64  \n",
      " 32  Number of premises with 5<10Mbit/s download speed             374 non-null    int64  \n",
      " 33  Number of premises with 10<30Mbit/s download speed            374 non-null    int64  \n",
      " 34  % of premises with 30<300Mbit/s download speed                374 non-null    float64\n",
      " 35  % of premises with >=300Mbit/s download speed                 374 non-null    float64\n",
      " 36  % of premises with 0<2Mbit/s download speed                   374 non-null    float64\n",
      " 37  % of premises with 2<5Mbit/s download speed                   374 non-null    float64\n",
      " 38  % of premises with 5<10Mbit/s download speed                  374 non-null    float64\n",
      " 39  % of premises with 10<30Mbit/s download speed                 374 non-null    float64\n",
      "dtypes: float64(18), int64(20), object(2)\n",
      "memory usage: 117.0+ KB\n"
     ]
    }
   ],
   "source": [
    "#Checking null value\n",
    "df.info()"
   ]
  },
  {
   "cell_type": "code",
   "execution_count": 235,
   "id": "6da97fe8-06bc-4c34-803c-8f590fb95ae7",
   "metadata": {},
   "outputs": [
    {
     "data": {
      "text/html": [
       "<div>\n",
       "<style scoped>\n",
       "    .dataframe tbody tr th:only-of-type {\n",
       "        vertical-align: middle;\n",
       "    }\n",
       "\n",
       "    .dataframe tbody tr th {\n",
       "        vertical-align: top;\n",
       "    }\n",
       "\n",
       "    .dataframe thead th {\n",
       "        text-align: right;\n",
       "    }\n",
       "</style>\n",
       "<table border=\"1\" class=\"dataframe\">\n",
       "  <thead>\n",
       "    <tr style=\"text-align: right;\">\n",
       "      <th></th>\n",
       "      <th>Name</th>\n",
       "      <th>1(0&lt;2)</th>\n",
       "      <th>2(2&lt;5)</th>\n",
       "      <th>3(5&lt;10)</th>\n",
       "      <th>4(10&lt;30)</th>\n",
       "      <th>5(30&lt;300)</th>\n",
       "      <th>6(300&lt;=)</th>\n",
       "    </tr>\n",
       "  </thead>\n",
       "  <tbody>\n",
       "    <tr>\n",
       "      <th>0</th>\n",
       "      <td>ABERDEEN CITY</td>\n",
       "      <td>65</td>\n",
       "      <td>145</td>\n",
       "      <td>509</td>\n",
       "      <td>5393</td>\n",
       "      <td>49125</td>\n",
       "      <td>70870</td>\n",
       "    </tr>\n",
       "    <tr>\n",
       "      <th>1</th>\n",
       "      <td>ABERDEENSHIRE</td>\n",
       "      <td>3241</td>\n",
       "      <td>3966</td>\n",
       "      <td>4395</td>\n",
       "      <td>8644</td>\n",
       "      <td>90353</td>\n",
       "      <td>14694</td>\n",
       "    </tr>\n",
       "    <tr>\n",
       "      <th>2</th>\n",
       "      <td>ADUR</td>\n",
       "      <td>3</td>\n",
       "      <td>11</td>\n",
       "      <td>32</td>\n",
       "      <td>274</td>\n",
       "      <td>3958</td>\n",
       "      <td>25517</td>\n",
       "    </tr>\n",
       "    <tr>\n",
       "      <th>3</th>\n",
       "      <td>ALLERDALE</td>\n",
       "      <td>601</td>\n",
       "      <td>502</td>\n",
       "      <td>513</td>\n",
       "      <td>1940</td>\n",
       "      <td>46341</td>\n",
       "      <td>1658</td>\n",
       "    </tr>\n",
       "    <tr>\n",
       "      <th>4</th>\n",
       "      <td>AMBER VALLEY</td>\n",
       "      <td>61</td>\n",
       "      <td>134</td>\n",
       "      <td>258</td>\n",
       "      <td>2151</td>\n",
       "      <td>41690</td>\n",
       "      <td>16806</td>\n",
       "    </tr>\n",
       "  </tbody>\n",
       "</table>\n",
       "</div>"
      ],
      "text/plain": [
       "            Name  1(0<2)  2(2<5)  3(5<10)  4(10<30)  5(30<300)  6(300<=)\n",
       "0  ABERDEEN CITY      65     145      509      5393      49125     70870\n",
       "1  ABERDEENSHIRE    3241    3966     4395      8644      90353     14694\n",
       "2           ADUR       3      11       32       274       3958     25517\n",
       "3      ALLERDALE     601     502      513      1940      46341      1658\n",
       "4   AMBER VALLEY      61     134      258      2151      41690     16806"
      ]
     },
     "execution_count": 235,
     "metadata": {},
     "output_type": "execute_result"
    }
   ],
   "source": [
    "#select specific columns I need: Name of area, number of house based on download speed\n",
    "subdf = df[['laua_name',\n",
    "            'Number of premises with 0<2Mbit/s download speed',\n",
    "            'Number of premises with 2<5Mbit/s download speed',\n",
    "            'Number of premises with 5<10Mbit/s download speed',\n",
    "            'Number of premises with 10<30Mbit/s download speed',\n",
    "            'Number of premises with 30<300Mbit/s download speed',\n",
    "            'Number of premises with >=300Mbit/s download speed'\n",
    "            ]]\n",
    "#Change 'laua_name' to 'Name', speed - simplify for join\n",
    "subdf1 = subdf.rename({'laua_name':'Name','Number of premises with 0<2Mbit/s download speed':'1(0<2)',\n",
    "                       'Number of premises with 2<5Mbit/s download speed':'2(2<5)',\n",
    "                       'Number of premises with 5<10Mbit/s download speed': '3(5<10)',\n",
    "                       'Number of premises with 10<30Mbit/s download speed': '4(10<30)',\n",
    "                       'Number of premises with 30<300Mbit/s download speed': '5(30<300)',\n",
    "                       'Number of premises with >=300Mbit/s download speed': '6(300<=)'}, axis='columns')\n",
    "subdf1.head()"
   ]
  },
  {
   "cell_type": "code",
   "execution_count": 236,
   "id": "9cd91a1e-0379-4ba8-9a26-35e789f0e56c",
   "metadata": {},
   "outputs": [
    {
     "name": "stdout",
     "output_type": "stream",
     "text": [
      "<class 'pandas.core.frame.DataFrame'>\n",
      "RangeIndex: 326 entries, 0 to 325\n",
      "Data columns (total 21 columns):\n",
      " #   Column                                                             Non-Null Count  Dtype  \n",
      "---  ------                                                             --------------  -----  \n",
      " 0   Name                                                               326 non-null    object \n",
      " 1   Region                                                             326 non-null    object \n",
      " 2   District Code                                                      326 non-null    object \n",
      " 3   ONS code                                                           326 non-null    object \n",
      " 4   Total Population1                                                  326 non-null    int64  \n",
      " 5   Major Urban Population                                             326 non-null    int64  \n",
      " 6   Large Urban Population                                             326 non-null    int64  \n",
      " 7   Other Urban Population                                             326 non-null    int64  \n",
      " 8   Total  Urban Population (excluding Large Market Town population)2  326 non-null    int64  \n",
      " 9   Large Market Town Population                                       326 non-null    int64  \n",
      " 10  Rural Town Population                                              326 non-null    int64  \n",
      " 11  Rural Town Population (including Large Market Town population)2    326 non-null    int64  \n",
      " 12  Village Population                                                 326 non-null    int64  \n",
      " 13  Dispersed Population                                               326 non-null    int64  \n",
      " 14  Total Rural Population (including Large Market Town population)2   326 non-null    int64  \n",
      " 15  Rural% (including Large Market Town population)2                   326 non-null    float64\n",
      " 16  Classification                                                     326 non-null    object \n",
      " 17  Numerical classification                                           326 non-null    int64  \n",
      " 18  Unnamed: 18                                                        0 non-null      float64\n",
      " 19  Unnamed: 19                                                        0 non-null      float64\n",
      " 20  Unnamed: 20                                                        0 non-null      float64\n",
      "dtypes: float64(4), int64(12), object(5)\n",
      "memory usage: 53.6+ KB\n"
     ]
    }
   ],
   "source": [
    "#read file 2\n",
    "df2 = pd.read_excel('2001-la-class-dataset-post0409-boundaries.xlsx', header=0)\n",
    "df2.info()"
   ]
  },
  {
   "cell_type": "code",
   "execution_count": 237,
   "id": "43ced9da-6aa8-495b-92a8-b6997d86abba",
   "metadata": {},
   "outputs": [],
   "source": [
    "df2.head()\n",
    "#Capitalize Name value for join\n",
    "df2['Name']=df2['Name'].str.upper()"
   ]
  },
  {
   "cell_type": "code",
   "execution_count": 238,
   "id": "2dafc0d3-bb86-4cf2-bd19-9758f4f47b05",
   "metadata": {},
   "outputs": [],
   "source": [
    "#select specific columns I need: Name, total population, Classification, Numeric classification\n",
    "subdf2 = df2[['Name', 'Total Population1', 'Classification','Numerical classification']]"
   ]
  },
  {
   "cell_type": "code",
   "execution_count": 239,
   "id": "24c47c32-5a24-4289-8b72-125ae2d60612",
   "metadata": {},
   "outputs": [
    {
     "data": {
      "text/plain": [
       "(326, 21)"
      ]
     },
     "execution_count": 239,
     "metadata": {},
     "output_type": "execute_result"
    }
   ],
   "source": [
    "df2.head()\n",
    "df2.shape"
   ]
  },
  {
   "cell_type": "code",
   "execution_count": 240,
   "id": "03c3d22d-2b5f-4377-a448-4377a6e78564",
   "metadata": {},
   "outputs": [
    {
     "data": {
      "text/plain": [
       "(296, 10)"
      ]
     },
     "execution_count": 240,
     "metadata": {},
     "output_type": "execute_result"
    }
   ],
   "source": [
    "#join subdf1 and subdf2 (inner join)\n",
    "innerjoindf = pd.merge(subdf1,\n",
    "                  subdf2,\n",
    "                  on ='Name',\n",
    "                  how ='inner')\n",
    "innerjoindf.shape"
   ]
  },
  {
   "cell_type": "code",
   "execution_count": 241,
   "id": "05ee1a92-575b-4d0d-bade-0877a88dad36",
   "metadata": {},
   "outputs": [
    {
     "data": {
      "text/plain": [
       "(404, 10)"
      ]
     },
     "execution_count": 241,
     "metadata": {},
     "output_type": "execute_result"
    }
   ],
   "source": [
    "outerjoindf = pd.merge(subdf1,\n",
    "                  subdf2,\n",
    "                  on ='Name',\n",
    "                  how ='outer')\n",
    "outerjoindf.shape"
   ]
  },
  {
   "cell_type": "code",
   "execution_count": 245,
   "id": "111037b7-bd19-484d-ad1d-16e177504a6b",
   "metadata": {},
   "outputs": [
    {
     "data": {
      "text/html": [
       "<div>\n",
       "<style scoped>\n",
       "    .dataframe tbody tr th:only-of-type {\n",
       "        vertical-align: middle;\n",
       "    }\n",
       "\n",
       "    .dataframe tbody tr th {\n",
       "        vertical-align: top;\n",
       "    }\n",
       "\n",
       "    .dataframe thead th {\n",
       "        text-align: right;\n",
       "    }\n",
       "</style>\n",
       "<table border=\"1\" class=\"dataframe\">\n",
       "  <thead>\n",
       "    <tr style=\"text-align: right;\">\n",
       "      <th></th>\n",
       "      <th>Name</th>\n",
       "      <th>1(0&lt;2)</th>\n",
       "      <th>2(2&lt;5)</th>\n",
       "      <th>3(5&lt;10)</th>\n",
       "      <th>4(10&lt;30)</th>\n",
       "      <th>5(30&lt;300)</th>\n",
       "      <th>6(300&lt;=)</th>\n",
       "      <th>Total Population1</th>\n",
       "      <th>Classification</th>\n",
       "      <th>Numerical classification</th>\n",
       "    </tr>\n",
       "  </thead>\n",
       "  <tbody>\n",
       "    <tr>\n",
       "      <th>0</th>\n",
       "      <td>ADUR</td>\n",
       "      <td>3</td>\n",
       "      <td>11</td>\n",
       "      <td>32</td>\n",
       "      <td>274</td>\n",
       "      <td>3958</td>\n",
       "      <td>25517</td>\n",
       "      <td>59571</td>\n",
       "      <td>LU</td>\n",
       "      <td>2</td>\n",
       "    </tr>\n",
       "    <tr>\n",
       "      <th>1</th>\n",
       "      <td>ALLERDALE</td>\n",
       "      <td>601</td>\n",
       "      <td>502</td>\n",
       "      <td>513</td>\n",
       "      <td>1940</td>\n",
       "      <td>46341</td>\n",
       "      <td>1658</td>\n",
       "      <td>93577</td>\n",
       "      <td>R80</td>\n",
       "      <td>6</td>\n",
       "    </tr>\n",
       "    <tr>\n",
       "      <th>2</th>\n",
       "      <td>AMBER VALLEY</td>\n",
       "      <td>61</td>\n",
       "      <td>134</td>\n",
       "      <td>258</td>\n",
       "      <td>2151</td>\n",
       "      <td>41690</td>\n",
       "      <td>16806</td>\n",
       "      <td>116484</td>\n",
       "      <td>SR</td>\n",
       "      <td>4</td>\n",
       "    </tr>\n",
       "    <tr>\n",
       "      <th>3</th>\n",
       "      <td>ARUN</td>\n",
       "      <td>70</td>\n",
       "      <td>55</td>\n",
       "      <td>144</td>\n",
       "      <td>2179</td>\n",
       "      <td>68077</td>\n",
       "      <td>8430</td>\n",
       "      <td>140841</td>\n",
       "      <td>LU</td>\n",
       "      <td>2</td>\n",
       "    </tr>\n",
       "    <tr>\n",
       "      <th>4</th>\n",
       "      <td>ASHFIELD</td>\n",
       "      <td>9</td>\n",
       "      <td>214</td>\n",
       "      <td>74</td>\n",
       "      <td>679</td>\n",
       "      <td>6776</td>\n",
       "      <td>51396</td>\n",
       "      <td>111295</td>\n",
       "      <td>OU</td>\n",
       "      <td>3</td>\n",
       "    </tr>\n",
       "  </tbody>\n",
       "</table>\n",
       "</div>"
      ],
      "text/plain": [
       "           Name  1(0<2)  2(2<5)  3(5<10)  4(10<30)  5(30<300)  6(300<=)  \\\n",
       "0          ADUR       3      11       32       274       3958     25517   \n",
       "1     ALLERDALE     601     502      513      1940      46341      1658   \n",
       "2  AMBER VALLEY      61     134      258      2151      41690     16806   \n",
       "3          ARUN      70      55      144      2179      68077      8430   \n",
       "4      ASHFIELD       9     214       74       679       6776     51396   \n",
       "\n",
       "   Total Population1 Classification  Numerical classification  \n",
       "0              59571             LU                         2  \n",
       "1              93577            R80                         6  \n",
       "2             116484             SR                         4  \n",
       "3             140841             LU                         2  \n",
       "4             111295             OU                         3  "
      ]
     },
     "execution_count": 245,
     "metadata": {},
     "output_type": "execute_result"
    }
   ],
   "source": [
    "innerjoindf.head()"
   ]
  },
  {
   "cell_type": "code",
   "execution_count": 265,
   "id": "97fdcb86-cfe1-47b9-b5c7-933e8918081d",
   "metadata": {},
   "outputs": [
    {
     "data": {
      "text/plain": [
       "<matplotlib.legend.Legend at 0x1fc2d7a6550>"
      ]
     },
     "execution_count": 265,
     "metadata": {},
     "output_type": "execute_result"
    },
    {
     "data": {
      "image/png": "[encoded data removed]",
      "text/plain": [
       "<Figure size 432x288 with 1 Axes>"
      ]
     },
     "metadata": {
      "needs_background": "light"
     },
     "output_type": "display_data"
    }
   ],
   "source": [
    "#show, but need to adjust or need much better codes!!!\n",
    "plt.scatter(innerjoindf['Numerical classification'],innerjoindf['1(0<2)'],color='blue', marker= 'o', label='1')\n",
    "# plt.scatter(innerjoindf['Numerical classification'],innerjoindf['2(2<5)'] , marker='v', label='2')\n",
    "# plt.scatter(innerjoindf['Numerical classification'],innerjoindf['3(5<10)'],marker='.', label='3')\n",
    "plt.legend()"
   ]
  },
  {
   "cell_type": "code",
   "execution_count": null,
   "id": "24da4861-d06f-4d55-a072-0bff65eedd6e",
   "metadata": {},
   "outputs": [],
   "source": []
  },
  {
   "cell_type": "code",
   "execution_count": null,
   "id": "6f20edb7-a416-4649-9c11-6dbb0bf10e1f",
   "metadata": {},
   "outputs": [],
   "source": []
  }
 ],
 "metadata": {
  "kernelspec": {
   "display_name": "Python 3",
   "language": "python",
   "name": "python3"
  },
  "language_info": {
   "codemirror_mode": {
    "name": "ipython",
    "version": 3
   },
   "file_extension": ".py",
   "mimetype": "text/x-python",
   "name": "python",
   "nbconvert_exporter": "python",
   "pygments_lexer": "ipython3",
   "version": "3.8.8"
  }
 },
 "nbformat": 4,
 "nbformat_minor": 5
}

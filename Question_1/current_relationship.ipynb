{
 "cells": [
  {
   "cell_type": "markdown",
   "metadata": {},
   "source": [
    "# Question 1 \n",
    "This section aims to answer the following questions:\n",
    "## What is the nature of the relationship between internet infrastructure and income at this moment in time?\n",
    "\n",
    "- Is there a link between less economically advantaged areas and less developed infrastructure? \n",
    "- Does this highlight a social issue?"
   ]
  },
  {
   "cell_type": "code",
   "execution_count": 3,
   "metadata": {},
   "outputs": [],
   "source": [
    "import numpy as np\n",
    "import pandas as pd\n",
    "import matplotlib.pyplot as plt"
   ]
  },
  {
   "cell_type": "code",
   "execution_count": 2,
   "metadata": {},
   "outputs": [],
   "source": [
    "# Importing the income and coverage data\n",
    "\n",
    "income_df = pd.read_csv(\"raw_income_data.csv\")\n",
    "coverage_df = pd.read_csv(\"raw_coverage_data.csv\")"
   ]
  },
  {
   "cell_type": "markdown",
   "metadata": {},
   "source": [
    "- Isolate the relevant data\n",
    "    - Drop irrelevant columns\n",
    "    - Drop irrelevant rows (WHERE MEASURES_NAME == 'Confidence')\n",
    "- General statistics: Top 10 wealthiest/poorest, Top 10 connected/disconnected, df.describe type stats (boxplots, bar charts, histograms)\n",
    "    - Makes notes on potential reoccurring areas in top 10s\n",
    "- Join the data together by the area\n",
    "- Graph plotting connectivity vs wealth\n",
    "    - breakdown for the types of connectivity\n",
    "-\n"
   ]
  },
  {
   "cell_type": "code",
   "execution_count": 4,
   "metadata": {},
   "outputs": [
    {
     "name": "stdout",
     "output_type": "stream",
     "text": [
      "<class 'pandas.core.frame.DataFrame'>\n",
      "RangeIndex: 25000 entries, 0 to 24999\n",
      "Data columns (total 40 columns):\n",
      " #   Column               Non-Null Count  Dtype  \n",
      "---  ------               --------------  -----  \n",
      " 0   DATE                 25000 non-null  int64  \n",
      " 1   DATE_NAME            25000 non-null  int64  \n",
      " 2   DATE_CODE            25000 non-null  int64  \n",
      " 3   DATE_TYPE            25000 non-null  object \n",
      " 4   DATE_TYPECODE        25000 non-null  int64  \n",
      " 5   DATE_SORTORDER       25000 non-null  int64  \n",
      " 6   GEOGRAPHY            25000 non-null  int64  \n",
      " 7   GEOGRAPHY_NAME       25000 non-null  object \n",
      " 8   GEOGRAPHY_CODE       25000 non-null  object \n",
      " 9   GEOGRAPHY_TYPE       25000 non-null  object \n",
      " 10  GEOGRAPHY_TYPECODE   25000 non-null  int64  \n",
      " 11  GEOGRAPHY_SORTORDER  25000 non-null  int64  \n",
      " 12  SEX                  25000 non-null  int64  \n",
      " 13  SEX_NAME             25000 non-null  object \n",
      " 14  SEX_CODE             25000 non-null  int64  \n",
      " 15  SEX_TYPE             25000 non-null  object \n",
      " 16  SEX_TYPECODE         25000 non-null  int64  \n",
      " 17  SEX_SORTORDER        25000 non-null  int64  \n",
      " 18  PAY                  25000 non-null  int64  \n",
      " 19  PAY_NAME             25000 non-null  object \n",
      " 20  PAY_CODE             25000 non-null  int64  \n",
      " 21  PAY_TYPE             25000 non-null  object \n",
      " 22  PAY_TYPECODE         25000 non-null  int64  \n",
      " 23  PAY_SORTORDER        25000 non-null  int64  \n",
      " 24  ITEM                 25000 non-null  int64  \n",
      " 25  ITEM_NAME            25000 non-null  object \n",
      " 26  ITEM_CODE            25000 non-null  int64  \n",
      " 27  ITEM_TYPE            25000 non-null  object \n",
      " 28  ITEM_TYPECODE        25000 non-null  int64  \n",
      " 29  ITEM_SORTORDER       25000 non-null  int64  \n",
      " 30  MEASURES             25000 non-null  int64  \n",
      " 31  MEASURES_NAME        25000 non-null  object \n",
      " 32  OBS_VALUE            8797 non-null   float64\n",
      " 33  OBS_STATUS           25000 non-null  object \n",
      " 34  OBS_STATUS_NAME      25000 non-null  object \n",
      " 35  OBS_CONF             25000 non-null  object \n",
      " 36  OBS_CONF_NAME        25000 non-null  object \n",
      " 37  URN                  25000 non-null  object \n",
      " 38  RECORD_OFFSET        25000 non-null  int64  \n",
      " 39  RECORD_COUNT         25000 non-null  int64  \n",
      "dtypes: float64(1), int64(23), object(16)\n",
      "memory usage: 7.6+ MB\n"
     ]
    }
   ],
   "source": [
    "income_df.info() "
   ]
  }
 ],
 "metadata": {
  "interpreter": {
   "hash": "fc163b6c4076952b5ffcdf70b7a3e0efdc8630001f29d21cf112fc5e158f65bd"
  },
  "kernelspec": {
   "display_name": "Python 3.8.10 64-bit (windows store)",
   "language": "python",
   "name": "python3"
  },
  "language_info": {
   "codemirror_mode": {
    "name": "ipython",
    "version": 3
   },
   "file_extension": ".py",
   "mimetype": "text/x-python",
   "name": "python",
   "nbconvert_exporter": "python",
   "pygments_lexer": "ipython3",
   "version": "3.8.10"
  },
  "orig_nbformat": 4
 },
 "nbformat": 4,
 "nbformat_minor": 2
}
